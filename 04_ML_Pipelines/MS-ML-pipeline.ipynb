{
 "cells": [
  {
   "cell_type": "code",
   "execution_count": 1,
   "id": "a45e3e1b-bc4a-4be3-9f1d-a60d751d6a99",
   "metadata": {},
   "outputs": [],
   "source": [
    "import pandas as pd\n",
    "import numpy as np\n",
    "import warnings\n",
    "from math import sqrt\n",
    "warnings.filterwarnings('ignore')\n",
    "from azureml.core.run import Run\n",
    "from azureml.core.experiment import Experiment\n",
    "from azureml.core.workspace import Workspace\n",
    "from azureml.core.model import Model\n",
    "from azureml.core.authentication import ServicePrincipalAuthentication\n",
    "from azureml.train.automl import AutoMLConfig\n",
    "import pickle\n",
    "from matplotlib import pyplot as plt\n",
    "from matplotlib.pyplot import figure\n",
    "import mlflow\n",
    "\n",
    "from azureml.core import Workspace, Dataset"
   ]
  },
  {
   "cell_type": "code",
   "execution_count": 3,
   "id": "7d5cc079-b893-4d17-815d-828d5b265710",
   "metadata": {},
   "outputs": [
    {
     "name": "stdout",
     "output_type": "stream",
     "text": [
      "Workspace.create(name='MLOpsWS', subscription_id='292890d4-aa6d-4d5e-a085-97c80db3c30a', resource_group='MLOpsRG')\n"
     ]
    }
   ],
   "source": [
    "subscription_id = '292890d4-aa6d-4d5e-a085-97c80db3c30a'\n",
    "resource_group = 'MLOpsRG'\n",
    "workspace_name = 'MLOpsWS'\n",
    "\n",
    "workspace = Workspace(subscription_id, resource_group, workspace_name)\n",
    "print(workspace)"
   ]
  },
  {
   "cell_type": "code",
   "execution_count": 4,
   "id": "0bd4b201-94c1-493c-9f63-5c2f24cd845f",
   "metadata": {},
   "outputs": [
    {
     "name": "stdout",
     "output_type": "stream",
     "text": [
      "azureml://australiaeast.api.azureml.ms/mlflow/v1.0/subscriptions/292890d4-aa6d-4d5e-a085-97c80db3c30a/resourceGroups/MLOpsRG/providers/Microsoft.MachineLearningServices/workspaces/MLOpsWS?\n"
     ]
    }
   ],
   "source": [
    "uri = workspace.get_mlflow_tracking_uri()\n",
    "mlflow.set_tracking_uri(uri)\n",
    "print(uri)"
   ]
  },
  {
   "cell_type": "code",
   "execution_count": null,
   "id": "ab5b9bb5-5ba8-4e4c-8067-1aca6bda7915",
   "metadata": {},
   "outputs": [],
   "source": []
  },
  {
   "cell_type": "code",
   "execution_count": null,
   "id": "19822ef0-cc57-4448-9580-639365dad5fb",
   "metadata": {},
   "outputs": [],
   "source": []
  },
  {
   "cell_type": "code",
   "execution_count": null,
   "id": "234c866e-fe14-494a-8b28-257a8c969eb9",
   "metadata": {},
   "outputs": [],
   "source": []
  },
  {
   "cell_type": "code",
   "execution_count": null,
   "id": "523b409a-1004-421b-b14c-d75d64412f20",
   "metadata": {},
   "outputs": [],
   "source": []
  },
  {
   "cell_type": "code",
   "execution_count": null,
   "id": "e682b0f4-270d-45aa-914c-62bc5a248faf",
   "metadata": {},
   "outputs": [],
   "source": []
  },
  {
   "cell_type": "code",
   "execution_count": null,
   "id": "a0d84631-b7d8-408f-ad4a-a1c0e94a6afe",
   "metadata": {},
   "outputs": [],
   "source": []
  },
  {
   "cell_type": "code",
   "execution_count": null,
   "id": "fdcc1efe-c136-48dd-bac9-a848c3617ca2",
   "metadata": {},
   "outputs": [],
   "source": []
  },
  {
   "cell_type": "markdown",
   "id": "c0f33e6a-992f-4c55-9ede-c90aba82e53f",
   "metadata": {},
   "source": [
    "# Train XGBRegressor using splitData1"
   ]
  },
  {
   "cell_type": "code",
   "execution_count": null,
   "id": "df08860d-efe7-410f-982d-c2df66e3f59d",
   "metadata": {},
   "outputs": [],
   "source": [
    "df = pd.read_csv(\"Dataset/splitData1_kfold_TrainAndValid.csv\")\n",
    "df.head()"
   ]
  },
  {
   "cell_type": "code",
   "execution_count": null,
   "id": "f89af6e5-d5ef-422c-8d4e-01ea719475db",
   "metadata": {},
   "outputs": [],
   "source": [
    "df.shape"
   ]
  },
  {
   "cell_type": "markdown",
   "id": "b392f509-dc0f-4b21-8b02-d1b1f90fed65",
   "metadata": {},
   "source": [
    "# Using KFolds for cross validation"
   ]
  },
  {
   "cell_type": "code",
   "execution_count": null,
   "id": "b98e6093-9a3b-48ca-b0e4-62c321ccb139",
   "metadata": {},
   "outputs": [],
   "source": [
    "xgb_params = {\n",
    "              'random_state': 1,\n",
    "              'n_estimators': 20000,\n",
    "              'objective': 'reg:squarederror',\n",
    "              'n_jobs': -1,                 \n",
    "              # Only test with these parameters\n",
    "              'gpu_id': 0,\n",
    "              'predictor': 'gpu_predictor',\n",
    "              'tree_method': 'gpu_hist',\n",
    "              # Only test with these parameters\n",
    "              }"
   ]
  },
  {
   "cell_type": "code",
   "execution_count": null,
   "id": "62d0a836-113c-46e0-9307-bd4a2fda5a8d",
   "metadata": {},
   "outputs": [],
   "source": [
    "folds=5\n",
    "total_mean_rmse = 0\n",
    "total_mean_mae = 0\n",
    "\n",
    "for fold in range(5):\n",
    "    xtrain =  df[df.kfold != fold].reset_index(drop=True)\n",
    "    xvalid = df[df.kfold == fold].reset_index(drop=True)\n",
    "\n",
    "    ytrain = xtrain.SalePrice\n",
    "    yvalid = xvalid.SalePrice\n",
    "\n",
    "    model = XGBRegressor(**xgb_params)\n",
    "    \n",
    "    # fit, validate and score       \n",
    "    model.fit(xtrain, ytrain, early_stopping_rounds=300, eval_set=[(xvalid, yvalid)], verbose=1000)\n",
    "    preds_valid = model.predict(xvalid)\n",
    "    \n",
    "    # https://scikit-learn.org/stable/modules/generated/sklearn.metrics.mean_squared_error.html\n",
    "    # If True returns MSE value, if False returns RMSE value.\n",
    "    fold_rmse = mean_squared_error(yvalid, preds_valid, squared=False)\n",
    "    fold_mae = mean_absolute_error(yvalid, preds_valid)\n",
    "\n",
    "    print(fold, fold_rmse)\n",
    "    print(fold, fold_mae)\n",
    "   \n",
    "    # calculate mean RMSE and MAE\n",
    "    total_mean_rmse += fold_rmse / folds\n",
    "    total_mean_mae += fold_mae / folds\n",
    "  \n",
    "print(f\"Total Mean RMSE: {total_mean_rmse}\")\n",
    "print(f\"Total Mean MAE: {total_mean_mae}\")"
   ]
  },
  {
   "cell_type": "code",
   "execution_count": null,
   "id": "f67c56a2-24e0-4e62-b62d-d0d9b528eec8",
   "metadata": {},
   "outputs": [],
   "source": [
    "# Total Mean RMSE: 428.03259475713577\n",
    "# Total Mean MAE: 82.72462039356864"
   ]
  },
  {
   "cell_type": "code",
   "execution_count": null,
   "id": "605010cd-ddff-4e80-b45e-a7d6e82435d6",
   "metadata": {},
   "outputs": [],
   "source": []
  },
  {
   "cell_type": "code",
   "execution_count": null,
   "id": "52860885-1518-4dcb-a149-a372ec4d415d",
   "metadata": {},
   "outputs": [],
   "source": []
  },
  {
   "cell_type": "code",
   "execution_count": null,
   "id": "eef3baff-b76c-4998-95a2-7a4c3da1a26a",
   "metadata": {},
   "outputs": [],
   "source": []
  }
 ],
 "metadata": {
  "kernelspec": {
   "display_name": "Python 3.8 - AzureML",
   "language": "python",
   "name": "python38-azureml"
  },
  "language_info": {
   "codemirror_mode": {
    "name": "ipython",
    "version": 3
   },
   "file_extension": ".py",
   "mimetype": "text/x-python",
   "name": "python",
   "nbconvert_exporter": "python",
   "pygments_lexer": "ipython3",
   "version": "3.8.5"
  }
 },
 "nbformat": 4,
 "nbformat_minor": 5
}
